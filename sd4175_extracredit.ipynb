{
 "cells": [
  {
   "cell_type": "code",
   "execution_count": 1,
   "id": "70dc0d04-5c0f-4234-8128-f741941f6f92",
   "metadata": {},
   "outputs": [],
   "source": [
    "import numpy as np\n",
    "import pandas as pd\n",
    "import random\n",
    "import logging\n",
    "import csv"
   ]
  },
  {
   "cell_type": "code",
   "execution_count": 2,
   "id": "eb1e970a-3b3c-4112-a056-065fcfead0dc",
   "metadata": {},
   "outputs": [],
   "source": [
    "class DTreeNode:\n",
    "    def __init__(self, feature, threshold):\n",
    "        self.feature = feature\n",
    "        self.threshold = threshold\n",
    "        self.left = None\n",
    "        self.right = None\n",
    "\n",
    "    def predict(self, x):\n",
    "        if x[self.feature] < self.threshold:\n",
    "            return self.left.predict(x)\n",
    "        else:\n",
    "            return self.right.predict(x)\n",
    "\n",
    "    def _is_initialized(self):\n",
    "        return self.left and self.right\n"
   ]
  },
  {
   "cell_type": "code",
   "execution_count": 3,
   "id": "e2325353-5b9f-4a9e-8a6f-75bb52fb9703",
   "metadata": {},
   "outputs": [],
   "source": [
    "class DTreeLeaf:\n",
    "    def __init__(self, y):\n",
    "        self.y = y\n",
    "\n",
    "    def predict(self, _):\n",
    "        return self.y\n"
   ]
  },
  {
   "cell_type": "code",
   "execution_count": 4,
   "id": "97561c3b-7062-4211-8d2f-10d6c4aed534",
   "metadata": {},
   "outputs": [],
   "source": [
    "class DTreeForest:\n",
    "    def __init__(self, dTrees):\n",
    "        self.dTrees = dTrees\n",
    "\n",
    "    def predict(self, x):\n",
    "        y_pred = [dt.predict(x) for dt in self.dTrees]\n",
    "        most_frequent_y = np.argmax(np.bincount(y_pred))\n",
    "        return most_frequent_y\n"
   ]
  },
  {
   "cell_type": "code",
   "execution_count": 5,
   "id": "2562a135-5402-437d-be27-8b70b274efa7",
   "metadata": {},
   "outputs": [],
   "source": [
    "def findEntropy(x):\n",
    "    prob = np.bincount(x) / len(x)\n",
    "    prob = prob[prob > 0]\n",
    "    return -np.sum(prob * np.log2(prob))"
   ]
  },
  {
   "cell_type": "code",
   "execution_count": 6,
   "id": "75f9da87-73cb-4fc9-9d95-8c889bd937c1",
   "metadata": {},
   "outputs": [],
   "source": [
    "def buildDTree(x, y, n_features_sampled=None):\n",
    "    best_information_gain, node_data = 0, None\n",
    "    n_samples, n_features = x.shape\n",
    "    H_before_split = findEntropy(y)\n",
    "\n",
    "    if n_features_sampled:\n",
    "        features = np.random.choice(n_features,\n",
    "                                    min(n_features, max(1, n_features_sampled)),\n",
    "                                    replace=False)\n",
    "    else:\n",
    "        features = np.arange(n_features)\n",
    "\n",
    "    for feature in features:\n",
    "        x_feature = x[:, feature]\n",
    "        threshold = np.mean(x_feature)\n",
    "\n",
    "        left_idx = x_feature < threshold\n",
    "        right_idx = x_feature >= threshold\n",
    "\n",
    "        y_left = y[left_idx]\n",
    "        y_right = y[right_idx]\n",
    "        p_y_left = len(y_left) / n_samples\n",
    "        p_y_right = len(y_right) / n_samples\n",
    "\n",
    "        H_after_split = p_y_left * findEntropy(y_left) + p_y_right * findEntropy(y_right)\n",
    "        information_gain = H_before_split - H_after_split\n",
    "\n",
    "        if information_gain > best_information_gain:\n",
    "            best_information_gain = information_gain\n",
    "            node_data = feature, threshold, left_idx, y_left, right_idx, y_right\n",
    "\n",
    "    if not best_information_gain:\n",
    "        most_frequent_y = np.argmax(np.bincount(y))\n",
    "        return DTreeLeaf(most_frequent_y)\n",
    "    else:\n",
    "        feature, threshold, left_idx, y_left, right_idx, y_right = node_data\n",
    "        node = DTreeNode(feature, threshold)\n",
    "        node.left = buildDTree(x[left_idx], y_left, n_features_sampled)\n",
    "        node.right = buildDTree(x[right_idx], y_right, n_features_sampled)\n",
    "        return node\n"
   ]
  },
  {
   "cell_type": "code",
   "execution_count": 7,
   "id": "e2ab8bc0-7767-457c-adcf-12ecdf13595d",
   "metadata": {},
   "outputs": [],
   "source": [
    "def shuffle(a, b):\n",
    "    # if len(a) != len(b):\n",
    "    #    raise ValueError('array lengths do not match')\n",
    "    idx = np.random.permutation(len(a))\n",
    "    return a[idx], b[idx]"
   ]
  },
  {
   "cell_type": "code",
   "execution_count": 13,
   "id": "310abe0e-7eb2-4809-8a17-3eded98351f4",
   "metadata": {},
   "outputs": [],
   "source": [
    "def findAccuracy(y_true, y_pred):\n",
    "    # if y_true.shape != y_pred.shape:\n",
    "    #     raise ValueError('array shapes do not match')\n",
    "    return np.sum(np.equal(y_true, y_pred)) / len(y_true)\n"
   ]
  },
  {
   "cell_type": "code",
   "execution_count": 14,
   "id": "95fa2363-95cb-48ad-8a4b-029e1581dcda",
   "metadata": {},
   "outputs": [],
   "source": [
    "np.random.seed()         \n",
    "\n",
    "df = np.array(pd.read_csv('data2.csv', header=None))\n",
    "\n",
    "x, y = df[:, :-1], df[:, -1].astype(np.bool_)\n",
    "x, y = shuffle(x, y)\n",
    "\n",
    "split = len(x) // 2\n",
    "\n",
    "x_train, y_train = x[:split], y[:split]         \n",
    "x_val, y_val = x[split:], y[split:]\n",
    "\n",
    "\n",
    "_, n_features = x.shape\n",
    "n_features_sampled = int(np.sqrt(n_features))\n",
    "forest_size = 25\n",
    "dTrees = []\n",
    "\n",
    "for tree_idx in range(forest_size):\n",
    "    sampled_idx = np.random.randint(0, high=split, size=split)\n",
    "    x_bootstrap, y_bootstrap = x_train[sampled_idx], y_train[sampled_idx]\n",
    "    dTree = buildDTree(x_bootstrap, y_bootstrap, n_features_sampled=n_features_sampled)\n",
    "    dTrees.append(dTree)\n",
    "    \n",
    "dForest = DTreeForest(dTrees)\n"
   ]
  },
  {
   "cell_type": "code",
   "execution_count": 15,
   "id": "e993c4f1-77de-48bf-8fdc-2404a59c942e",
   "metadata": {},
   "outputs": [
    {
     "data": {
      "text/plain": [
       "array([1., 0., 1., 1.])"
      ]
     },
     "execution_count": 15,
     "metadata": {},
     "output_type": "execute_result"
    }
   ],
   "source": [
    "df2 = np.array(pd.read_csv('test2.csv', header=None))\n",
    "\n",
    "x_test=df2[:].astype(np.bool_)\n",
    "y_test=np.zeros(len(x_test))\n",
    "for i in range(len(x_test)):\n",
    "    y_test[i] = int(dForest.predict(x_test[i]))\n",
    "y_test"
   ]
  },
  {
   "cell_type": "code",
   "execution_count": 16,
   "id": "53a592c5-5574-4189-904e-ab72cb83416d",
   "metadata": {},
   "outputs": [],
   "source": [
    "with open(\"sd4175_extracredit.out\", \"w\") as op:\n",
    "    write_buffer = csv.writer(op, delimiter=\" \")\n",
    "\n",
    "    write_buffer.writerow(y_test)\n",
    "\n"
   ]
  },
  {
   "cell_type": "code",
   "execution_count": null,
   "id": "7378ac71-2453-4a6a-876c-ea2791d0727c",
   "metadata": {},
   "outputs": [],
   "source": []
  }
 ],
 "metadata": {
  "kernelspec": {
   "display_name": "Python 3 (ipykernel)",
   "language": "python",
   "name": "python3"
  },
  "language_info": {
   "codemirror_mode": {
    "name": "ipython",
    "version": 3
   },
   "file_extension": ".py",
   "mimetype": "text/x-python",
   "name": "python",
   "nbconvert_exporter": "python",
   "pygments_lexer": "ipython3",
   "version": "3.9.7"
  }
 },
 "nbformat": 4,
 "nbformat_minor": 5
}
