{
 "cells": [
  {
   "cell_type": "code",
   "execution_count": 1,
   "id": "a248f8a3-641c-4627-8f7a-b781879c9fcc",
   "metadata": {},
   "outputs": [
    {
     "name": "stderr",
     "output_type": "stream",
     "text": [
      "/opt/anaconda3/lib/python3.9/site-packages/scipy/__init__.py:146: UserWarning: A NumPy version >=1.16.5 and <1.23.0 is required for this version of SciPy (detected version 1.23.3\n",
      "  warnings.warn(f\"A NumPy version >={np_minversion} and <{np_maxversion}\"\n"
     ]
    }
   ],
   "source": [
    "import numpy as np\n",
    "import pandas as pd\n",
    "import matplotlib\n",
    "import matplotlib.pyplot as plt\n",
    "import seaborn as sns\n",
    "import sklearn.metrics as metrics\n",
    "from sklearn.model_selection import cross_val_score\n",
    "from sklearn.metrics import accuracy_score\n",
    "from sklearn import tree\n",
    "from sklearn.tree import DecisionTreeClassifier\n",
    "from sklearn.ensemble import RandomForestClassifier\n",
    "from sklearn.ensemble import AdaBoostClassifier\n",
    "from sklearn.linear_model import LogisticRegressionCV\n",
    "from sklearn.model_selection import KFold\n",
    "from sklearn.metrics import confusion_matrix\n",
    "from sklearn.model_selection import train_test_split\n",
    "%matplotlib inline\n",
    "\n",
    "\n",
    "from sklearn.model_selection import learning_curve"
   ]
  },
  {
   "cell_type": "code",
   "execution_count": 2,
   "id": "e264a8de-111e-4eb4-b884-06b71b7d4aed",
   "metadata": {},
   "outputs": [],
   "source": [
    "df = pd.read_table(\"spambase.data\", sep =',', header=None)  \n",
    "df=df.rename(columns={df.columns[57]:'spam'})\n",
    "#Split data into train and test  \n",
    "x=df.drop('spam',axis=1)\n",
    "y=df['spam']"
   ]
  },
  {
   "cell_type": "code",
   "execution_count": 3,
   "id": "cdeef9c6-d6f1-4a65-800d-bcfa2d367346",
   "metadata": {},
   "outputs": [],
   "source": [
    "#Random Forests \n",
    "def getGINI(x_train, x_test, y_train,y_test,n):\n",
    "    rf=RandomForestClassifier(n_estimators=n,criterion='gini',random_state=1)\n",
    "    rf.fit(x_train,y_train)\n",
    "    y_pred=rf.predict(x_test)\n",
    "    return accuracy_score(y_test,y_pred)\n",
    "\n",
    "def getIG(x_train, x_test, y_train,y_test,n):\n",
    "    rf2=RandomForestClassifier(n_estimators=n,criterion='entropy',random_state=1)\n",
    "    rf2.fit(x_train,y_train)\n",
    "    y_pred2=rf2.predict(x_test)\n",
    "    return accuracy_score(y_test,y_pred2)"
   ]
  },
  {
   "cell_type": "code",
   "execution_count": 4,
   "id": "1d060831-34f5-4ed7-b232-5d9cbed80c93",
   "metadata": {},
   "outputs": [
    {
     "name": "stdout",
     "output_type": "stream",
     "text": [
      "0.9036929761042722 [0.89210717 0.89065894 0.87255612 0.89065894 0.88776249 0.90369298\n",
      " 0.89645185 0.87472846 0.89210717 0.8993483  0.89717596 0.87545257\n",
      " 0.88631427 0.8884866  0.88052136 0.88776249 0.89500362 0.88486604\n",
      " 0.89645185 0.88196959]\n",
      "0.9145546705286025 [0.87762491 0.91455467 0.88921072 0.8884866  0.90369298 0.87617668\n",
      " 0.87472846 0.89500362 0.88414193 0.88341781 0.89065894 0.89065894\n",
      " 0.87762491 0.8826937  0.89210717 0.88921072 0.88703838 0.88196959\n",
      " 0.89717596 0.89065894]\n"
     ]
    }
   ],
   "source": [
    "#N=1\n",
    "#GINI\n",
    "tmp=np.zeros(20)\n",
    "for i in range(20):\n",
    "    x_train, x_test, y_train,y_test=train_test_split(x,y,test_size=0.3,random_state= None) \n",
    "    tmp[i]=getGINI(x_train, x_test, y_train,y_test,1)\n",
    "print(np.amax(tmp),tmp)\n",
    "\n",
    "#IG\n",
    "tmp2=np.zeros(20)\n",
    "for i in range(20):\n",
    "    x_train, x_test, y_train,y_test=train_test_split(x,y,test_size=0.3,random_state= None) \n",
    "    tmp2[i]=getIG(x_train, x_test, y_train,y_test,1)\n",
    "print(np.amax(tmp2),tmp2)"
   ]
  },
  {
   "cell_type": "code",
   "execution_count": 5,
   "id": "df7e3954-d8c1-4dde-9ec8-e65d44cc9484",
   "metadata": {},
   "outputs": [
    {
     "name": "stdout",
     "output_type": "stream",
     "text": [
      "0.9384503982621288 [0.9384504  0.93120927 0.93048516 0.91817524 0.9217958  0.91020999\n",
      " 0.92469225 0.91745112 0.92396814 0.91889935 0.90803765 0.93048516\n",
      " 0.92469225 0.93265749 0.93048516 0.9160029  0.92396814 0.9217958\n",
      " 0.91093411 0.9217958 ]\n",
      "0.9384503982621288 [0.93265749 0.92324403 0.92396814 0.92831282 0.9275887  0.91383056\n",
      " 0.93482983 0.93048516 0.93410572 0.91455467 0.92976104 0.92614048\n",
      " 0.91527878 0.91889935 0.9160029  0.93193338 0.92469225 0.9384504\n",
      " 0.9275887  0.91962346]\n"
     ]
    }
   ],
   "source": [
    "#N=3\n",
    "#GINI\n",
    "tmp=np.zeros(20)\n",
    "for i in range(20):\n",
    "    x_train, x_test, y_train,y_test=train_test_split(x,y,test_size=0.3,random_state= None) \n",
    "    tmp[i]=getGINI(x_train, x_test, y_train,y_test,3)\n",
    "print(np.amax(tmp),tmp)\n",
    "\n",
    "#IG\n",
    "tmp2=np.zeros(20)\n",
    "for i in range(20):\n",
    "    x_train, x_test, y_train,y_test=train_test_split(x,y,test_size=0.3,random_state= None) \n",
    "    tmp2[i]=getIG(x_train, x_test, y_train,y_test,3)\n",
    "print(np.amax(tmp2),tmp2)"
   ]
  },
  {
   "cell_type": "code",
   "execution_count": 6,
   "id": "ebaf20dc-a1c2-4d87-9039-17df952f7ab1",
   "metadata": {},
   "outputs": [
    {
     "name": "stdout",
     "output_type": "stream",
     "text": [
      "0.9485879797248371 [0.94858798 0.9384504  0.94351919 0.93048516 0.92903693 0.94786387\n",
      " 0.92903693 0.94062274 0.94641564 0.93193338 0.93627806 0.93193338\n",
      " 0.93265749 0.93555395 0.93410572 0.9384504  0.92903693 0.94207096\n",
      " 0.93482983 0.93627806]\n",
      "0.9507603186097031 [0.93193338 0.94062274 0.94134685 0.94134685 0.94062274 0.93410572\n",
      " 0.9384504  0.93772629 0.93048516 0.93048516 0.93989862 0.9384504\n",
      " 0.93917451 0.93410572 0.93917451 0.95076032 0.93338161 0.93120927\n",
      " 0.92903693 0.92976104]\n"
     ]
    }
   ],
   "source": [
    "#N=5\n",
    "#GINI\n",
    "tmp=np.zeros(20)\n",
    "for i in range(20):\n",
    "    x_train, x_test, y_train,y_test=train_test_split(x,y,test_size=0.3,random_state= None) \n",
    "    tmp[i]=getGINI(x_train, x_test, y_train,y_test,5)\n",
    "print(np.amax(tmp),tmp)\n",
    "\n",
    "#IG\n",
    "tmp2=np.zeros(20)\n",
    "for i in range(20):\n",
    "    x_train, x_test, y_train,y_test=train_test_split(x,y,test_size=0.3,random_state= None) \n",
    "    tmp2[i]=getIG(x_train, x_test, y_train,y_test,5)\n",
    "print(np.amax(tmp2),tmp2)"
   ]
  },
  {
   "cell_type": "code",
   "execution_count": 7,
   "id": "713ec397-eaaf-4f57-a711-f95558217def",
   "metadata": {},
   "outputs": [
    {
     "name": "stdout",
     "output_type": "stream",
     "text": [
      "0.9529326574945691 [0.95076032 0.93917451 0.93917451 0.94641564 0.93917451 0.94062274\n",
      " 0.94931209 0.94496741 0.94641564 0.94641564 0.9384504  0.95003621\n",
      " 0.94207096 0.94496741 0.95003621 0.94207096 0.94569153 0.94641564\n",
      " 0.95003621 0.95293266]\n",
      "0.9572773352643013 [0.94641564 0.94351919 0.95003621 0.94713975 0.93989862 0.95365677\n",
      " 0.94496741 0.94496741 0.94062274 0.94713975 0.95727734 0.93772629\n",
      " 0.94496741 0.95220854 0.93989862 0.95365677 0.95438088 0.93989862\n",
      " 0.94713975 0.9442433 ]\n"
     ]
    }
   ],
   "source": [
    "#N=10\n",
    "#GINI\n",
    "tmp=np.zeros(20)\n",
    "for i in range(20):\n",
    "    x_train, x_test, y_train,y_test=train_test_split(x,y,test_size=0.3,random_state= None) \n",
    "    tmp[i]=getGINI(x_train, x_test, y_train,y_test,10)\n",
    "print(np.amax(tmp),tmp)\n",
    "\n",
    "#IG\n",
    "tmp2=np.zeros(20)\n",
    "for i in range(20):\n",
    "    x_train, x_test, y_train,y_test=train_test_split(x,y,test_size=0.3,random_state= None) \n",
    "    tmp2[i]=getIG(x_train, x_test, y_train,y_test,10)\n",
    "print(np.amax(tmp2),tmp2)"
   ]
  },
  {
   "cell_type": "code",
   "execution_count": 8,
   "id": "c76b9ced-c6e8-41ef-869b-82d5e019b888",
   "metadata": {},
   "outputs": [
    {
     "name": "stdout",
     "output_type": "stream",
     "text": [
      "0.9536567704561911 [0.95148443 0.94713975 0.95365677 0.95220854 0.95003621 0.93989862\n",
      " 0.93917451 0.95003621 0.93989862 0.95293266 0.94786387 0.9442433\n",
      " 0.95076032 0.94062274 0.95220854 0.94496741 0.94786387 0.94786387\n",
      " 0.9442433  0.94713975]\n",
      "0.9565532223026793 [0.95003621 0.95220854 0.95655322 0.94786387 0.94279508 0.95148443\n",
      " 0.95365677 0.94931209 0.95365677 0.94279508 0.95220854 0.95365677\n",
      " 0.94641564 0.95003621 0.95076032 0.94713975 0.95076032 0.94931209\n",
      " 0.94496741 0.94569153]\n"
     ]
    }
   ],
   "source": [
    "#N=15\n",
    "#GINI\n",
    "tmp=np.zeros(20)\n",
    "for i in range(20):\n",
    "    x_train, x_test, y_train,y_test=train_test_split(x,y,test_size=0.3,random_state= None) \n",
    "    tmp[i]=getGINI(x_train, x_test, y_train,y_test,15)\n",
    "print(np.amax(tmp),tmp)\n",
    "\n",
    "#IG\n",
    "tmp2=np.zeros(20)\n",
    "for i in range(20):\n",
    "    x_train, x_test, y_train,y_test=train_test_split(x,y,test_size=0.3,random_state= None) \n",
    "    tmp2[i]=getIG(x_train, x_test, y_train,y_test,15)\n",
    "print(np.amax(tmp2),tmp2)"
   ]
  },
  {
   "cell_type": "code",
   "execution_count": 9,
   "id": "d285638d-14de-4730-b490-6db7a4d2afbd",
   "metadata": {},
   "outputs": [
    {
     "name": "stdout",
     "output_type": "stream",
     "text": [
      "0.9594496741491673 [0.9384504  0.94641564 0.94351919 0.95365677 0.94569153 0.95438088\n",
      " 0.94786387 0.95148443 0.95944967 0.94641564 0.94931209 0.94931209\n",
      " 0.95293266 0.95944967 0.94641564 0.94641564 0.95003621 0.95365677\n",
      " 0.94641564 0.9442433 ]\n",
      "0.9608979000724113 [0.94496741 0.94641564 0.95365677 0.9384504  0.95003621 0.94786387\n",
      " 0.94786387 0.9442433  0.94351919 0.95293266 0.94858798 0.94931209\n",
      " 0.9384504  0.95076032 0.95727734 0.95003621 0.9608979  0.95293266\n",
      " 0.94786387 0.94641564]\n"
     ]
    }
   ],
   "source": [
    "#N=20\n",
    "#GINI\n",
    "tmp=np.zeros(20)\n",
    "for i in range(20):\n",
    "    x_train, x_test, y_train,y_test=train_test_split(x,y,test_size=0.3,random_state= None) \n",
    "    tmp[i]=getGINI(x_train, x_test, y_train,y_test,20)\n",
    "print(np.amax(tmp),tmp)\n",
    "\n",
    "#IG\n",
    "tmp2=np.zeros(20)\n",
    "for i in range(20):\n",
    "    x_train, x_test, y_train,y_test=train_test_split(x,y,test_size=0.3,random_state= None) \n",
    "    tmp2[i]=getIG(x_train, x_test, y_train,y_test,20)\n",
    "print(np.amax(tmp2),tmp2)"
   ]
  },
  {
   "cell_type": "code",
   "execution_count": 10,
   "id": "d0221752-a5f5-4822-882e-3b4f8c702c57",
   "metadata": {},
   "outputs": [
    {
     "name": "stdout",
     "output_type": "stream",
     "text": [
      "0.9565532223026793 [0.94713975 0.93627806 0.93772629 0.94931209 0.95003621 0.95148443\n",
      " 0.94351919 0.94786387 0.95148443 0.95655322 0.94786387 0.94713975\n",
      " 0.95003621 0.9442433  0.94496741 0.94641564 0.94786387 0.94496741\n",
      " 0.94062274 0.94641564]\n",
      "0.9587255611875453 [0.95293266 0.94931209 0.955105   0.95727734 0.95582911 0.95872556\n",
      " 0.95220854 0.95582911 0.94207096 0.95003621 0.95438088 0.955105\n",
      " 0.94279508 0.95655322 0.95148443 0.94641564 0.95872556 0.94931209\n",
      " 0.94569153 0.9384504 ]\n"
     ]
    }
   ],
   "source": [
    "#N=40\n",
    "#GINI\n",
    "tmp=np.zeros(20)\n",
    "for i in range(20):\n",
    "    x_train, x_test, y_train,y_test=train_test_split(x,y,test_size=0.3,random_state= None) \n",
    "    tmp[i]=getGINI(x_train, x_test, y_train,y_test,40)\n",
    "print(np.amax(tmp),tmp)\n",
    "\n",
    "#IG\n",
    "tmp2=np.zeros(20)\n",
    "for i in range(20):\n",
    "    x_train, x_test, y_train,y_test=train_test_split(x,y,test_size=0.3,random_state= None) \n",
    "    tmp2[i]=getIG(x_train, x_test, y_train,y_test,40)\n",
    "print(np.amax(tmp2),tmp2)"
   ]
  },
  {
   "cell_type": "code",
   "execution_count": 11,
   "id": "283d4d5b-d29f-4227-9a49-47fa54d17f51",
   "metadata": {},
   "outputs": [
    {
     "name": "stdout",
     "output_type": "stream",
     "text": [
      "0.9608979000724113 [0.94279508 0.94931209 0.94641564 0.95293266 0.95582911 0.95727734\n",
      " 0.95365677 0.9608979  0.955105   0.95003621 0.9442433  0.95727734\n",
      " 0.93917451 0.94134685 0.94279508 0.95003621 0.95076032 0.96017379\n",
      " 0.95727734 0.94858798]\n",
      "0.9594496741491673 [0.95727734 0.95293266 0.95582911 0.955105   0.95003621 0.95944967\n",
      " 0.94858798 0.94279508 0.94496741 0.95148443 0.95365677 0.95003621\n",
      " 0.95655322 0.94641564 0.94858798 0.95655322 0.9442433  0.955105\n",
      " 0.94569153 0.95655322]\n"
     ]
    }
   ],
   "source": [
    "#N=70\n",
    "#GINI\n",
    "tmp=np.zeros(20)\n",
    "for i in range(20):\n",
    "    x_train, x_test, y_train,y_test=train_test_split(x,y,test_size=0.3,random_state= None) \n",
    "    tmp[i]=getGINI(x_train, x_test, y_train,y_test,70)\n",
    "print(np.amax(tmp),tmp)\n",
    "\n",
    "#IG\n",
    "tmp2=np.zeros(20)\n",
    "for i in range(20):\n",
    "    x_train, x_test, y_train,y_test=train_test_split(x,y,test_size=0.3,random_state= None) \n",
    "    tmp2[i]=getIG(x_train, x_test, y_train,y_test,70)\n",
    "print(np.amax(tmp2),tmp2)"
   ]
  },
  {
   "cell_type": "code",
   "execution_count": null,
   "id": "98d4a914-ccae-43bd-b6b3-ab73e5e7da1a",
   "metadata": {},
   "outputs": [],
   "source": []
  },
  {
   "cell_type": "code",
   "execution_count": null,
   "id": "11182342-26cd-48f0-b415-48fe69f7b5f0",
   "metadata": {},
   "outputs": [],
   "source": []
  },
  {
   "cell_type": "code",
   "execution_count": null,
   "id": "6bf7c56d-5f6a-4741-b970-3a473987c811",
   "metadata": {},
   "outputs": [],
   "source": []
  }
 ],
 "metadata": {
  "kernelspec": {
   "display_name": "Python 3 (ipykernel)",
   "language": "python",
   "name": "python3"
  },
  "language_info": {
   "codemirror_mode": {
    "name": "ipython",
    "version": 3
   },
   "file_extension": ".py",
   "mimetype": "text/x-python",
   "name": "python",
   "nbconvert_exporter": "python",
   "pygments_lexer": "ipython3",
   "version": "3.9.7"
  }
 },
 "nbformat": 4,
 "nbformat_minor": 5
}
