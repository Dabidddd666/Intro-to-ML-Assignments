{
 "cells": [
  {
   "cell_type": "code",
   "execution_count": 1,
   "id": "21831a11-bb47-434d-8555-6a26614ed4e1",
   "metadata": {},
   "outputs": [
    {
     "name": "stderr",
     "output_type": "stream",
     "text": [
      "/opt/anaconda3/lib/python3.9/site-packages/scipy/__init__.py:146: UserWarning: A NumPy version >=1.16.5 and <1.23.0 is required for this version of SciPy (detected version 1.23.3\n",
      "  warnings.warn(f\"A NumPy version >={np_minversion} and <{np_maxversion}\"\n"
     ]
    }
   ],
   "source": [
    "import numpy as np\n",
    "import pandas as pd\n",
    "import matplotlib\n",
    "import matplotlib.pyplot as plt\n",
    "import seaborn as sns\n",
    "import sklearn.metrics as metrics\n",
    "from sklearn.model_selection import cross_val_score\n",
    "from sklearn.metrics import accuracy_score\n",
    "from sklearn import tree\n",
    "from sklearn.tree import DecisionTreeClassifier\n",
    "from sklearn.ensemble import RandomForestClassifier\n",
    "from sklearn.model_selection import train_test_split\n",
    "%matplotlib inline\n"
   ]
  },
  {
   "cell_type": "code",
   "execution_count": 2,
   "id": "09a8b1b8-7ccb-4b91-abfe-b7800bba7595",
   "metadata": {},
   "outputs": [],
   "source": [
    "df = pd.read_table(\"spambase.data\", sep =',', header=None)  \n",
    "df=df.rename(columns={df.columns[57]:'spam'})"
   ]
  },
  {
   "cell_type": "code",
   "execution_count": 3,
   "id": "d432bb61-67e9-41c3-9f5c-19e5da37488a",
   "metadata": {},
   "outputs": [],
   "source": [
    "#(1) Gini impurity\n",
    "def getGini(x_train,x_test,y_train,y_test):\n",
    "    dt = DecisionTreeClassifier(criterion='gini',random_state=1) \n",
    "    dt.fit(x_train, y_train)\n",
    "    y_pred=dt.predict(x_test)\n",
    "    return accuracy_score(y_test,y_pred)\n"
   ]
  },
  {
   "cell_type": "code",
   "execution_count": 4,
   "id": "a65d2fcc-001d-4d49-ac4a-7e8982d5dca9",
   "metadata": {},
   "outputs": [
    {
     "data": {
      "text/plain": [
       "(0.9217958001448225,\n",
       " array([0.9160029 , 0.9160029 , 0.90658943, 0.91455467, 0.91455467,\n",
       "        0.91745112, 0.90441709, 0.9160029 , 0.90152064, 0.9217958 ,\n",
       "        0.91745112, 0.89645185, 0.91093411, 0.90731354, 0.90152064,\n",
       "        0.91817524, 0.91383056, 0.9051412 , 0.90948588, 0.91165822]))"
      ]
     },
     "execution_count": 4,
     "metadata": {},
     "output_type": "execute_result"
    }
   ],
   "source": [
    "#Split data into train and test  \n",
    "x=df.drop('spam',axis=1)\n",
    "y=df['spam']\n",
    "\n",
    "tmp=np.zeros(20)\n",
    "for i in range(20):\n",
    "    x_train, x_test, y_train,y_test=train_test_split(x,y,test_size=0.3,random_state= None) \n",
    "    tmp[i]=getGini(x_train, x_test, y_train,y_test)\n",
    "np.amax(tmp),tmp\n"
   ]
  },
  {
   "cell_type": "code",
   "execution_count": 5,
   "id": "d99b8514-ec59-4c0d-a40e-e2a6f0bf132d",
   "metadata": {},
   "outputs": [],
   "source": [
    "#(2) Shannon information gain\n",
    "def getIG(x_train,x_test,y_train,y_test):\n",
    "    dt2 = DecisionTreeClassifier(criterion='entropy',random_state=1) \n",
    "    dt2.fit(x_train, y_train)\n",
    "    y_pred2=dt2.predict(x_test)\n",
    "    return accuracy_score(y_test,y_pred2)"
   ]
  },
  {
   "cell_type": "code",
   "execution_count": 6,
   "id": "42c27f09-f987-4370-bc57-ea3bbb7be81c",
   "metadata": {},
   "outputs": [
    {
     "data": {
      "text/plain": [
       "(0.9377262853005068,\n",
       " array([0.92396814, 0.92324403, 0.91093411, 0.91817524, 0.92831282,\n",
       "        0.91817524, 0.92831282, 0.92686459, 0.92324403, 0.92251991,\n",
       "        0.91310644, 0.91238233, 0.93772629, 0.9160029 , 0.91165822,\n",
       "        0.93265749, 0.91310644, 0.92976104, 0.9275887 , 0.90876177]))"
      ]
     },
     "execution_count": 6,
     "metadata": {},
     "output_type": "execute_result"
    }
   ],
   "source": [
    "tmp=np.zeros(20)\n",
    "for i in range(20):\n",
    "    x_train, x_test, y_train,y_test=train_test_split(x,y,test_size=0.3,random_state= None) \n",
    "    tmp[i]=getIG(x_train, x_test, y_train,y_test)\n",
    "np.amax(tmp),tmp"
   ]
  },
  {
   "cell_type": "code",
   "execution_count": null,
   "id": "9219364e-45b2-4429-bfa4-082e943c0359",
   "metadata": {},
   "outputs": [],
   "source": []
  },
  {
   "cell_type": "code",
   "execution_count": null,
   "id": "acf23e57-3838-49db-8ba0-04ff6520038c",
   "metadata": {},
   "outputs": [],
   "source": []
  }
 ],
 "metadata": {
  "kernelspec": {
   "display_name": "Python 3 (ipykernel)",
   "language": "python",
   "name": "python3"
  },
  "language_info": {
   "codemirror_mode": {
    "name": "ipython",
    "version": 3
   },
   "file_extension": ".py",
   "mimetype": "text/x-python",
   "name": "python",
   "nbconvert_exporter": "python",
   "pygments_lexer": "ipython3",
   "version": "3.9.7"
  }
 },
 "nbformat": 4,
 "nbformat_minor": 5
}
